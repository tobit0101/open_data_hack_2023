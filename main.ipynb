{
 "cells": [
  {
   "cell_type": "code",
   "execution_count": 40,
   "outputs": [],
   "source": [
    "###################\n",
    "#### Prompts   ####\n",
    "###################\n",
    "\n",
    "prompts = {}\n",
    "prompts['identifier'] = 'Fasse den Text zusammen.'\n",
    "# ..."
   ],
   "metadata": {
    "collapsed": false,
    "ExecuteTime": {
     "end_time": "2023-12-02T15:00:38.989332181Z",
     "start_time": "2023-12-02T15:00:38.945252983Z"
    }
   },
   "id": "c1e6d04745c2fc23"
  },
  {
   "cell_type": "code",
   "execution_count": 41,
   "outputs": [],
   "source": [
    "import io\n",
    "###################\n",
    "#### Functions ####\n",
    "###################\n",
    "\n",
    "from openai import OpenAI\n",
    "import os\n",
    "import json\n",
    "\n",
    "from dotenv import load_dotenv\n",
    "load_dotenv()\n",
    "openai_api_key = os.getenv('OPENAI_API_KEY')\n",
    "gpt_model = os.getenv('GPT_MODEL')\n",
    "\n",
    "\n",
    "client = OpenAI(\n",
    "    api_key=openai_api_key,\n",
    ")\n",
    "\n",
    "\n",
    "def build_message(prompt, input_text):\n",
    "    messages = [\n",
    "        {\"role\": \"user\", \"content\": prompt},\n",
    "        {\"role\": \"user\", \"content\": f'\"{input_text}\"'},\n",
    "    ]\n",
    "    return messages\n",
    "\n",
    "def run_completion(prompts, input_text):\n",
    "    result = {}\n",
    "    for key, value in prompts.items():\n",
    "        print(f'Run completion \"{key}\"')\n",
    "        try:\n",
    "            completion_result = client.chat.completions.create(\n",
    "                model=os.getenv('GPT_MODEL'),\n",
    "                messages=build_message(value, input_text)\n",
    "            )\n",
    "            assistant = completion_result.choices[0].message.content if completion_result else ''\n",
    "            assistant_result = assistant.strip('\"').strip('\\'').strip()\n",
    "            result[key] = assistant_result\n",
    "        except Exception as e:\n",
    "            error_message = f'Error occurred while complete \"{key}\": {str(e)}'\n",
    "            print(error_message)\n",
    "    return result\n",
    "\n",
    "def write_to_output(filename, data):\n",
    "    current_folder = os.getcwd()\n",
    "    output_folder_path = os.path.join(current_folder, 'output')\n",
    "    if not os.path.exists(output_folder_path):\n",
    "        os.makedirs(output_folder_path)\n",
    "\n",
    "    file_path = os.path.join(output_folder_path, f'{filename}.json')\n",
    "    if os.path.exists(file_path):\n",
    "        os.remove(file_path)\n",
    "\n",
    "    print(f'Write to file \"{filename}\"')\n",
    "    with io.open(file_path, 'w', encoding='utf-8') as outfile:\n",
    "        json.dump(data, outfile, ensure_ascii=False)\n",
    "\n",
    "def read_input():\n",
    "    current_folder = os.getcwd()\n",
    "    input_folder = os.path.join(current_folder, 'input')\n",
    "    input_data = {}\n",
    "\n",
    "    if os.path.exists(input_folder) and os.path.isdir(input_folder):\n",
    "        for filename in os.listdir(input_folder):\n",
    "            if filename.endswith('.txt'):\n",
    "                print(f'Read file \"{filename}\"')\n",
    "                file_path = os.path.join(input_folder, filename)\n",
    "                with io.open(file_path, 'r', encoding='utf-8') as file:\n",
    "                    file_content = file.read()\n",
    "                key = os.path.splitext(filename)[0]\n",
    "                input_data[key] = file_content\n",
    "\n",
    "    return input_data\n"
   ],
   "metadata": {
    "collapsed": false,
    "ExecuteTime": {
     "end_time": "2023-12-02T15:00:39.050175703Z",
     "start_time": "2023-12-02T15:00:38.989242953Z"
    }
   },
   "id": "initial_id"
  },
  {
   "cell_type": "code",
   "execution_count": 42,
   "outputs": [
    {
     "name": "stdout",
     "output_type": "stream",
     "text": [
      "Read file \"example.txt\"\n",
      "Processing file \"example\"\n",
      "Run completion \"identifier\"\n",
      "Write to file \"example\"\n",
      "Finished\n"
     ]
    }
   ],
   "source": [
    "###################\n",
    "#### Execution ####\n",
    "###################\n",
    "\n",
    "input_data = read_input()\n",
    "for filename, text in input_data.items():\n",
    "    print(f'Processing file \"{filename}\"')\n",
    "    completion_result = run_completion(prompts, text)\n",
    "    write_to_output(filename, completion_result)\n",
    "print('Finished')\n"
   ],
   "metadata": {
    "collapsed": false,
    "ExecuteTime": {
     "end_time": "2023-12-02T15:00:47.796044720Z",
     "start_time": "2023-12-02T15:00:39.055114145Z"
    }
   },
   "id": "a93ec4468a9d8dd7"
  }
 ],
 "metadata": {
  "kernelspec": {
   "display_name": "Python 3",
   "language": "python",
   "name": "python3"
  },
  "language_info": {
   "codemirror_mode": {
    "name": "ipython",
    "version": 2
   },
   "file_extension": ".py",
   "mimetype": "text/x-python",
   "name": "python",
   "nbconvert_exporter": "python",
   "pygments_lexer": "ipython2",
   "version": "2.7.6"
  }
 },
 "nbformat": 4,
 "nbformat_minor": 5
}
